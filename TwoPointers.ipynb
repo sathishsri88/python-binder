{
 "cells": [
  {
   "cell_type": "code",
   "execution_count": 1,
   "id": "a4a63b13-5d4f-40b9-80b9-047e2dbc1af4",
   "metadata": {},
   "outputs": [],
   "source": [
    "def longest_substring_without_repeating_characters(s: str) -> int:\n",
    "    # WRITE YOUR BRILLIANT CODE HERE\n",
    "    if not s:\n",
    "        return 0\n",
    "    n = len(s)\n",
    "    l = r = longest = 0\n",
    "    window = {}\n",
    "    while(r<n):\n",
    "        if s[r] not in window:\n",
    "            window[s[r]] = r\n",
    "            # print(window)\n",
    "            r+=1\n",
    "        else:\n",
    "            # print(window)\n",
    "            curr_idx = window[s[l]]\n",
    "            del window[s[l]]\n",
    "            l = curr_idx +1\n",
    "        longest = max(longest, r-l)\n",
    "    return longest"
   ]
  },
  {
   "cell_type": "code",
   "execution_count": 2,
   "id": "f31817a7-85bb-4dda-a518-8152bda46485",
   "metadata": {},
   "outputs": [
    {
     "name": "stdout",
     "output_type": "stream",
     "text": [
      "5\n"
     ]
    }
   ],
   "source": [
    "print(longest_substring_without_repeating_characters(\"abcdbea\"))  "
   ]
  },
  {
   "cell_type": "code",
   "execution_count": null,
   "id": "00914e06-1a72-473a-9342-e2fdf02509fb",
   "metadata": {},
   "outputs": [],
   "source": []
  }
 ],
 "metadata": {
  "kernelspec": {
   "display_name": "Python 3 (ipykernel)",
   "language": "python",
   "name": "python3"
  },
  "language_info": {
   "codemirror_mode": {
    "name": "ipython",
    "version": 3
   },
   "file_extension": ".py",
   "mimetype": "text/x-python",
   "name": "python",
   "nbconvert_exporter": "python",
   "pygments_lexer": "ipython3",
   "version": "3.7.12"
  }
 },
 "nbformat": 4,
 "nbformat_minor": 5
}
