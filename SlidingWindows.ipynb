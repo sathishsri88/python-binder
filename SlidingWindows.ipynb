{
  "nbformat": 4,
  "nbformat_minor": 0,
  "metadata": {
    "colab": {
      "name": "SlidingWindows.ipynb",
      "provenance": [],
      "authorship_tag": "ABX9TyN7Bfw/vh0jbgCjWuYCqoor",
      "include_colab_link": true
    },
    "kernelspec": {
      "name": "python3",
      "display_name": "Python 3"
    },
    "language_info": {
      "name": "python"
    }
  },
  "cells": [
    {
      "cell_type": "markdown",
      "metadata": {
        "id": "view-in-github",
        "colab_type": "text"
      },
      "source": [
        "<a href=\"https://colab.research.google.com/github/sathishsri88/python-binder/blob/main/SlidingWindows.ipynb\" target=\"_parent\"><img src=\"https://colab.research.google.com/assets/colab-badge.svg\" alt=\"Open In Colab\"/></a>"
      ]
    },
    {
      "cell_type": "markdown",
      "source": [
        "Longest Substring Without Repeating Characters"
      ],
      "metadata": {
        "id": "Fz-PEpAU84fD"
      }
    },
    {
      "cell_type": "code",
      "source": [
        "def lengthOfLongestSubstring(s: str) -> int:\n",
        "  seen = {}\n",
        "  max_length = 0\n",
        "  start = 0\n",
        "  for end, char in enumerate(s):\n",
        "    if char in seen and start <= seen[char]:\n",
        "      start = seen[char] + 1\n",
        "    else:\n",
        "      max_length = max(max_length, end-start+1)\n",
        "    seen[char] = end\n",
        "  return max_length\n"
      ],
      "metadata": {
        "id": "6aY900yS84Eu"
      },
      "execution_count": 2,
      "outputs": []
    },
    {
      "cell_type": "code",
      "source": [
        "print(lengthOfLongestSubstring(\"pwwkew\"))\n",
        "print(lengthOfLongestSubstring(\"acbdbacd\"))\n",
        "print(lengthOfLongestSubstring(\"sathish\"))"
      ],
      "metadata": {
        "colab": {
          "base_uri": "https://localhost:8080/"
        },
        "id": "CsCdkB8J9nKt",
        "outputId": "35506271-c7c4-42bc-903c-6a2bf721ab0a"
      },
      "execution_count": 3,
      "outputs": [
        {
          "output_type": "stream",
          "name": "stdout",
          "text": [
            "3\n",
            "4\n",
            "5\n"
          ]
        }
      ]
    },
    {
      "cell_type": "code",
      "source": [
        ""
      ],
      "metadata": {
        "id": "GtXtc4xP9tGI"
      },
      "execution_count": null,
      "outputs": []
    }
  ]
}