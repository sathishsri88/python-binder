{
 "cells": [
  {
   "cell_type": "code",
   "execution_count": 1,
   "id": "108d5ecf-32ff-456d-8396-69aa03770b89",
   "metadata": {},
   "outputs": [],
   "source": [
    "ss: str = \"Sammy Shark!\""
   ]
  },
  {
   "cell_type": "code",
   "execution_count": 2,
   "id": "d6915acc-ecec-4bdc-a30d-d9fb939a9a3b",
   "metadata": {},
   "outputs": [
    {
     "name": "stdout",
     "output_type": "stream",
     "text": [
      "!krahS ymmaS\n"
     ]
    }
   ],
   "source": [
    "print(ss[::-1])"
   ]
  },
  {
   "cell_type": "code",
   "execution_count": 4,
   "id": "3ea75705-6327-45a5-8f67-70846a5cd202",
   "metadata": {},
   "outputs": [],
   "source": [
    "assert(ss[::-1] == \"!krahS ymmaS\")\n",
    "assert(ss[4] == 'y')\n",
    "assert(ss[-3] == 'r')"
   ]
  },
  {
   "cell_type": "code",
   "execution_count": 6,
   "id": "a2cdaa24-d752-49d6-b947-9042e4987fa8",
   "metadata": {},
   "outputs": [],
   "source": [
    "## Slicing strings\n",
    "assert(ss[6:4] == \"\")\n",
    "assert(ss[6:11] == \"Shark\")\n",
    "assert(ss[:5] == \"Sammy\")\n",
    "assert(ss[7:] == \"hark!\")"
   ]
  },
  {
   "cell_type": "markdown",
   "id": "314058a2-c182-414d-8248-26d16235995b",
   "metadata": {},
   "source": [
    "The substring “ark” is printed from the string “Sammy Shark!” because the character “a” occurs at the -4 index number position, and the character “k” occurs before the -1 index number position."
   ]
  },
  {
   "cell_type": "code",
   "execution_count": 8,
   "id": "69659077-28db-4c97-917d-d891ded3a0c8",
   "metadata": {},
   "outputs": [],
   "source": [
    "assert(ss[-4:-1] == \"ark\")\n",
    "##Specifying Stride while Slicing Strings\n",
    "assert(ss[6:11:1] == \"Shark\")\n",
    "assert(ss[0:12:2] == \"SmySak\")\n",
    "assert(ss[0:12:4] == \"Sya\")\n",
    "assert(ss[::4] == \"Sya\")\n",
    "assert(ss[::-1] == \"!krahS ymmaS\")\n",
    "assert(ss[::-2] == \"!rh ma\")"
   ]
  },
  {
   "cell_type": "code",
   "execution_count": 9,
   "id": "09fe070e-28e1-4499-9b5d-332b7a0e1934",
   "metadata": {},
   "outputs": [],
   "source": [
    "## String operations\n",
    "assert(len(ss) == 12)\n",
    "assert(ss.count('a') == 2)\n",
    "assert(ss.count('sa') == 0)\n",
    "assert(ss.count('Sa') == 1)\n",
    "#Find\n",
    "assert(ss.find('Sa') == 0)\n",
    "assert(ss.find('Sh') == 6)"
   ]
  },
  {
   "cell_type": "code",
   "execution_count": 10,
   "id": "e5cc9a74-a1aa-40c5-b6ee-500be8b0d292",
   "metadata": {},
   "outputs": [],
   "source": [
    "likes = \"Sammy likes to swim in the ocean, likes to spin up servers, and likes to smile.\"\n",
    "assert(likes.find(\"likes\", 9) == 34)\n",
    "assert(likes.find(\"likes\", 40, -6) == 64)"
   ]
  },
  {
   "cell_type": "markdown",
   "id": "d057c742-e9d2-4c75-8d0b-1ae22b265d2f",
   "metadata": {
    "tags": []
   },
   "source": [
    "#### Additionally, we can specify an end to the range as a third parameter. Like slicing, we can do so by counting backwards using a negative index number:\n",
    "\n",
    "##### This last example searches for the position of the sequence “likes” between the index numbers of 40 and -6. Since the final parameter entered is a negative number it will be counting from the end of the original string.\n",
    "\n",
    "##### Comprehension tricks https://pub.towardsai.net/50-python-3-tips-tricks-e5dbe05212d7"
   ]
  },
  {
   "cell_type": "code",
   "execution_count": 11,
   "id": "63c6b2f1-0290-4716-afe3-6b91550da25f",
   "metadata": {},
   "outputs": [
    {
     "name": "stdout",
     "output_type": "stream",
     "text": [
      "{1: 2, 2: 4, 4: 2}\n"
     ]
    }
   ],
   "source": [
    "a =[1,2,4,2]\n",
    "d= {x:y for x,y in zip(a, a[1:])}\n",
    "print(d)"
   ]
  },
  {
   "cell_type": "code",
   "execution_count": null,
   "id": "db211a3e-4878-412c-bd1d-eae3f3a8517b",
   "metadata": {},
   "outputs": [],
   "source": []
  }
 ],
 "metadata": {
  "kernelspec": {
   "display_name": "Python 3 (ipykernel)",
   "language": "python",
   "name": "python3"
  },
  "language_info": {
   "codemirror_mode": {
    "name": "ipython",
    "version": 3
   },
   "file_extension": ".py",
   "mimetype": "text/x-python",
   "name": "python",
   "nbconvert_exporter": "python",
   "pygments_lexer": "ipython3",
   "version": "3.7.12"
  }
 },
 "nbformat": 4,
 "nbformat_minor": 5
}
