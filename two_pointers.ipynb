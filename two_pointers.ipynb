{
  "nbformat": 4,
  "nbformat_minor": 0,
  "metadata": {
    "colab": {
      "name": "two_pointers.ipynb",
      "provenance": [],
      "collapsed_sections": [],
      "authorship_tag": "ABX9TyM6hyQO4t1XlJrbtSv7amam",
      "include_colab_link": true
    },
    "kernelspec": {
      "name": "python3",
      "display_name": "Python 3"
    },
    "language_info": {
      "name": "python"
    }
  },
  "cells": [
    {
      "cell_type": "markdown",
      "metadata": {
        "id": "view-in-github",
        "colab_type": "text"
      },
      "source": [
        "<a href=\"https://colab.research.google.com/github/sathishsri88/python-binder/blob/main/two_pointers.ipynb\" target=\"_parent\"><img src=\"https://colab.research.google.com/assets/colab-badge.svg\" alt=\"Open In Colab\"/></a>"
      ]
    },
    {
      "cell_type": "markdown",
      "source": [
        "Remove Duplicates"
      ],
      "metadata": {
        "id": "nSdyiuHJ3Uhz"
      }
    },
    {
      "cell_type": "code",
      "source": [
        "from typing import List"
      ],
      "metadata": {
        "id": "KsyGWZLP3jKM"
      },
      "execution_count": null,
      "outputs": []
    },
    {
      "cell_type": "code",
      "source": [
        "def first_none_index(arr: List[int], from_index: int = 1) -> int:\n",
        "    for index, item in enumerate(arr[from_index:], start=from_index):\n",
        "        if not item:\n",
        "            return index\n",
        "    return -1"
      ],
      "metadata": {
        "id": "_qr5mBGP3aOx"
      },
      "execution_count": null,
      "outputs": []
    },
    {
      "cell_type": "code",
      "source": [
        "def first_non_none_index(arr: List[int], from_index: int = 1) -> int:\n",
        "    for index, item in enumerate(arr[from_index:], start=from_index):\n",
        "        if item:\n",
        "            return index\n",
        "    return -1"
      ],
      "metadata": {
        "id": "PLlylQyn3fez"
      },
      "execution_count": null,
      "outputs": []
    },
    {
      "cell_type": "code",
      "source": [
        "def remove_duplicates(arr: List[int]) -> int:\n",
        "    # WRITE YOUR BRILLIANT CODE HERE\n",
        "    if not arr or len(arr) <= 1:\n",
        "        return len(arr)\n",
        "    slow_ptr = 0\n",
        "    fast_ptr: int = 1\n",
        "    while fast_ptr < len(arr):\n",
        "        if arr[slow_ptr] == arr[fast_ptr]:\n",
        "            arr[fast_ptr] = None\n",
        "        else:\n",
        "            slow_ptr = fast_ptr\n",
        "        fast_ptr += 1\n",
        "    none_index: int = first_none_index(arr)\n",
        "    non_none_index: int = 0 # or 1\n",
        "    while none_index >= 0 and 0 <= non_none_index < len(arr):\n",
        "        non_none_index = first_non_none_index(arr, non_none_index)\n",
        "        if non_none_index != -1:\n",
        "            # tmp_index = none_index\n",
        "            arr[none_index] = arr[non_none_index]\n",
        "            arr[non_none_index] = None\n",
        "            none_index = non_none_index\n",
        "    \n",
        "    result = first_none_index(arr)\n",
        "    return len(arr) if result == -1 else result\n"
      ],
      "metadata": {
        "id": "uNjuQ-bU3mqn"
      },
      "execution_count": null,
      "outputs": []
    },
    {
      "cell_type": "code",
      "source": [
        "def remove_duplicates_easy(arr: List[int]) -> int:\n",
        "  slow =0\n",
        "  for fast in range(len(arr)):\n",
        "    if arr[fast] != arr[slow]:\n",
        "      slow += 1\n",
        "      arr[slow]= arr[fast]\n",
        "  return slow +1"
      ],
      "metadata": {
        "id": "dJC0BvVvD14q"
      },
      "execution_count": null,
      "outputs": []
    },
    {
      "cell_type": "code",
      "source": [
        "print(first_none_index([1,None,2]))\n",
        "print(first_none_index([0, 1, 2, None, None, None, None]))"
      ],
      "metadata": {
        "colab": {
          "base_uri": "https://localhost:8080/"
        },
        "id": "XOAVjXye3oaB",
        "outputId": "9589fe17-41d8-40b8-9917-7532071d46b1"
      },
      "execution_count": null,
      "outputs": [
        {
          "output_type": "stream",
          "name": "stdout",
          "text": [
            "1\n",
            "3\n"
          ]
        }
      ]
    },
    {
      "cell_type": "code",
      "source": [
        "print(first_non_none_index([1,None,2]))"
      ],
      "metadata": {
        "colab": {
          "base_uri": "https://localhost:8080/"
        },
        "id": "3JHqDiie3-NC",
        "outputId": "33502190-201c-4e68-e4c3-3d11f5cc6f88"
      },
      "execution_count": null,
      "outputs": [
        {
          "output_type": "stream",
          "name": "stdout",
          "text": [
            "1\n"
          ]
        }
      ]
    },
    {
      "cell_type": "code",
      "source": [
        "arr = [0,0,1,1,1,2,2]\n",
        "length = remove_duplicates(arr)\n",
        "print(\"{0}-{1}\".format(arr, length))"
      ],
      "metadata": {
        "colab": {
          "base_uri": "https://localhost:8080/"
        },
        "id": "ni5QKsU84BHq",
        "outputId": "74912ace-7682-44cd-e603-5bafcd9db31f"
      },
      "execution_count": null,
      "outputs": [
        {
          "output_type": "stream",
          "name": "stdout",
          "text": [
            "[0, 1, 2, None, None, None, None]-3\n"
          ]
        }
      ]
    },
    {
      "cell_type": "code",
      "source": [
        "arr = [0,0,1,1,1,2,2]\n",
        "length = remove_duplicates_easy(arr)\n",
        "print(\"{0}-{1}\".format(arr, length))"
      ],
      "metadata": {
        "colab": {
          "base_uri": "https://localhost:8080/"
        },
        "id": "CQd8TteQESM0",
        "outputId": "976be99d-8f52-4a1b-c5c5-9b00aa9cea89"
      },
      "execution_count": null,
      "outputs": [
        {
          "output_type": "stream",
          "name": "stdout",
          "text": [
            "[0, 1, 2, 1, 1, 2, 2]-3\n"
          ]
        }
      ]
    },
    {
      "cell_type": "code",
      "source": [
        "arr = [1,2,3]\n",
        "length = remove_duplicates(arr)\n",
        "print(\"{0}-{1}\".format(arr, length))"
      ],
      "metadata": {
        "colab": {
          "base_uri": "https://localhost:8080/"
        },
        "id": "TGojIccS9yMp",
        "outputId": "68fe0595-d7b4-4923-ee70-d6de085a7130"
      },
      "execution_count": null,
      "outputs": [
        {
          "output_type": "stream",
          "name": "stdout",
          "text": [
            "[1, 2, 3]-3\n"
          ]
        }
      ]
    },
    {
      "cell_type": "code",
      "source": [
        "arr = [1,2,3]\n",
        "length = remove_duplicates_easy(arr)\n",
        "print(\"{0}-{1}\".format(arr, length))"
      ],
      "metadata": {
        "colab": {
          "base_uri": "https://localhost:8080/"
        },
        "id": "OrenxLZkEVHH",
        "outputId": "c568cc1a-f0a2-48b2-c7f4-4295f1c378fa"
      },
      "execution_count": null,
      "outputs": [
        {
          "output_type": "stream",
          "name": "stdout",
          "text": [
            "[1, 2, 3]-3\n"
          ]
        }
      ]
    },
    {
      "cell_type": "markdown",
      "source": [
        "Middle of LinkedList"
      ],
      "metadata": {
        "id": "sQgRrsN1KqWF"
      }
    },
    {
      "cell_type": "code",
      "source": [
        "class Node:\n",
        "    def __init__(self, val, next=None):\n",
        "        self.val = val\n",
        "        self.next = next\n",
        "\n",
        "def middle_of_linked_list_custom(head: Node) -> int:\n",
        "    # WRITE YOUR BRILLIANT CODE HERE\n",
        "    if not head or not head.next:\n",
        "        return 0\n",
        "    middle = 1\n",
        "#     slow_ptr = head\n",
        "    fast_ptr = head.next.next\n",
        "    while fast_ptr and fast_ptr.next:\n",
        "#         slow_ptr = slow_ptr.next\n",
        "        fast_ptr = fast_ptr.next.next\n",
        "        middle += 1\n",
        "    return middle\n",
        "\n",
        "def middle_of_linked_list(head: Node) -> int:\n",
        "    # WRITE YOUR BRILLIANT CODE HERE\n",
        "    if not head or not head.next:\n",
        "        return 0\n",
        "    slow = fast = head\n",
        "    while fast and fast.next:\n",
        "        slow = slow.next\n",
        "        fast = fast.next.next\n",
        "    return slow.val"
      ],
      "metadata": {
        "id": "s2aiVv67KvAS"
      },
      "execution_count": null,
      "outputs": []
    },
    {
      "cell_type": "code",
      "source": [
        "def build_list(nodes, f):\n",
        "    val = next(nodes, None)\n",
        "    if val is None: return None\n",
        "    nxt = build_list(nodes, f)\n",
        "    return Node(f(val), nxt)\n",
        "\n",
        "head = build_list(iter([0,1,2,3,4]), int)\n",
        "res = middle_of_linked_list(head)\n",
        "print(res)"
      ],
      "metadata": {
        "colab": {
          "base_uri": "https://localhost:8080/"
        },
        "id": "ELog0rX5KzAS",
        "outputId": "75a62bd3-61fe-4aac-b13d-de4f45292c90"
      },
      "execution_count": null,
      "outputs": [
        {
          "output_type": "stream",
          "name": "stdout",
          "text": [
            "2\n"
          ]
        }
      ]
    },
    {
      "cell_type": "code",
      "source": [
        ""
      ],
      "metadata": {
        "id": "zAbEnxwvK3hn"
      },
      "execution_count": null,
      "outputs": []
    }
  ]
}