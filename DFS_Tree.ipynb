{
  "nbformat": 4,
  "nbformat_minor": 0,
  "metadata": {
    "colab": {
      "name": "DFS_Tree.ipynb",
      "provenance": [],
      "authorship_tag": "ABX9TyMpnosDsw0horMYT1+9WXEG",
      "include_colab_link": true
    },
    "kernelspec": {
      "name": "python3",
      "display_name": "Python 3"
    },
    "language_info": {
      "name": "python"
    }
  },
  "cells": [
    {
      "cell_type": "markdown",
      "metadata": {
        "id": "view-in-github",
        "colab_type": "text"
      },
      "source": [
        "<a href=\"https://colab.research.google.com/github/sathishsri88/python-binder/blob/main/DFS_Tree.ipynb\" target=\"_parent\"><img src=\"https://colab.research.google.com/assets/colab-badge.svg\" alt=\"Open In Colab\"/></a>"
      ]
    },
    {
      "cell_type": "code",
      "source": [
        "class TreeNode:\n",
        "  def __init__(self, x):\n",
        "    self.val = x\n",
        "    self.left = None\n",
        "    self.right = None\n",
        "  \n",
        "  def __str__(self):\n",
        "    return \"Node[ {0}, left -> {1} & right -> {2} ]\".format(self.val, self.left, self.right)"
      ],
      "metadata": {
        "id": "P7CkqjmvyFbC"
      },
      "execution_count": null,
      "outputs": []
    },
    {
      "cell_type": "markdown",
      "source": [
        "Serializing & Deserializing Tree"
      ],
      "metadata": {
        "id": "L2TpI8dIx7Qc"
      }
    },
    {
      "cell_type": "code",
      "execution_count": null,
      "metadata": {
        "id": "9yqyPfhoUL-a"
      },
      "outputs": [],
      "source": [
        "class Codec:\n",
        "  def serialize(self, root: TreeNode)-> str:\n",
        "    res = []\n",
        "    def dfs(node: TreeNode):\n",
        "      if not node:\n",
        "        res.append('x')\n",
        "        return\n",
        "      res.append(str(node.val))\n",
        "      dfs(node.left)\n",
        "      dfs(node.right)\n",
        "    dfs(root)  \n",
        "    return \" \".join(res)\n",
        "  \n",
        "  def deserialize(self, data: str) -> TreeNode:\n",
        "    def dfs(nodes) -> TreeNode: \n",
        "      val = next(nodes)\n",
        "      if not val or val == 'x': return\n",
        "      currNode = TreeNode(int(val))\n",
        "      currNode.left = dfs(nodes)\n",
        "      currNode.right = dfs(nodes)\n",
        "      return currNode\n",
        "    return dfs(iter(data.split()))"
      ]
    },
    {
      "cell_type": "code",
      "source": [
        "root  = TreeNode(1)\n",
        "root.left = TreeNode(2)\n",
        "root.right = TreeNode(3)\n",
        "root.right.left = TreeNode(4)\n",
        "root.right.right = TreeNode(5)\n",
        "codec = Codec()\n",
        "serialized_str = codec.serialize(root)\n",
        "print(serialized_str)\n",
        "print(codec.deserialize(serialized_str))"
      ],
      "metadata": {
        "colab": {
          "base_uri": "https://localhost:8080/"
        },
        "id": "xpzklwaZzQe9",
        "outputId": "6d107a1f-740b-4d33-ec75-4b0c869eea52"
      },
      "execution_count": null,
      "outputs": [
        {
          "output_type": "stream",
          "name": "stdout",
          "text": [
            "1 2 x x 3 4 x x 5 x x\n",
            "Node[ 1, left -> Node[ 2, left -> None & right -> None ] & right -> Node[ 3, left -> Node[ 4, left -> None & right -> None ] & right -> Node[ 5, left -> None & right -> None ] ] ]\n"
          ]
        }
      ]
    },
    {
      "cell_type": "markdown",
      "source": [
        "Binary Tree Maximum Path Sum -> best explanantion: https://leetcode.com/problems/binary-tree-maximum-path-sum/discuss/603423/Python-Recursion-stack-thinking-process-diagram"
      ],
      "metadata": {
        "id": "XJtmEh6kx6kn"
      }
    },
    {
      "cell_type": "code",
      "source": [
        ""
      ],
      "metadata": {
        "id": "k2T3zG7TzP7N"
      },
      "execution_count": null,
      "outputs": []
    }
  ]
}